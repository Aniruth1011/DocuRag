{
 "cells": [
  {
   "cell_type": "code",
   "execution_count": 1,
   "id": "394fa35e",
   "metadata": {},
   "outputs": [
    {
     "data": {
      "text/plain": [
       "True"
      ]
     },
     "execution_count": 1,
     "metadata": {},
     "output_type": "execute_result"
    }
   ],
   "source": [
    "from langchain_groq import ChatGroq \n",
    "from langchain_google_genai import   GoogleGenerativeAIEmbeddings \n",
    "from langchain_huggingface import HuggingFaceEmbeddings \n",
    "from langchain_core.prompts import PromptTemplate \n",
    "from langchain_tavily import TavilySearch \n",
    "from langchain_core.runnables import RunnablePassthrough\n",
    "from langchain_core.documents import Document\n",
    "from langchain.output_parsers import PydanticOutputParser\n",
    "from langchain_community.document_loaders import CSVLoader \n",
    "from langchain_google_genai import ChatGoogleGenerativeAI\n",
    "from langchain_core.messages import AIMessage, ToolMessage\n",
    "from langchain_text_splitters import RecursiveCharacterTextSplitter \n",
    "from langchain_community.docstore.in_memory import InMemoryDocstore\n",
    "from langchain_community.vectorstores import FAISS\n",
    "import faiss \n",
    "\n",
    "from langchain_chroma import Chroma \n",
    "from langgraph.graph import StateGraph,END \n",
    "from langchain_core.tools import tool \n",
    "import re \n",
    "from typing import TypedDict , Annotated  , List \n",
    "import operator \n",
    "import os \n",
    "from dotenv import load_dotenv \n",
    "from pydantic import BaseModel, Field  \n",
    "load_dotenv() "
   ]
  },
  {
   "cell_type": "code",
   "execution_count": 2,
   "id": "1f2eb1b5",
   "metadata": {},
   "outputs": [],
   "source": [
    "os.environ[\"GOOGLE_API_KEY\"] = os.getenv(\"GOOGLE_API_KEY\") \n",
    "os.environ[\"GROQ_API_KEY\"] = os.getenv(\"GROQ_API_KEY\")\n",
    "os.environ[\"TAVILY_API_KEY\"] = os.getenv(\"TAVILY_API_KEY\") \n",
    "os.environ[\"HF_TOKEN\"] = os.getenv(\"HF_TOKEN\")\n",
    "LLM_TYPE = os.getenv(\"LLM_TYPE\")\n",
    "LLM_MODEL = os.getenv(\"LLM_MODEL\")"
   ]
  },
  {
   "cell_type": "code",
   "execution_count": 3,
   "id": "277af4fe",
   "metadata": {},
   "outputs": [],
   "source": [
    "def format_docs(docs):\n",
    "    return \"\\n\\n\".join(doc.page_content for doc in docs)"
   ]
  },
  {
   "cell_type": "code",
   "execution_count": 4,
   "id": "8ffa8f86",
   "metadata": {},
   "outputs": [],
   "source": [
    "class State(TypedDict):\n",
    "    messages : Annotated[list[str], operator.add]\n",
    "    "
   ]
  },
  {
   "cell_type": "code",
   "execution_count": 5,
   "id": "613c94ae",
   "metadata": {},
   "outputs": [],
   "source": [
    "def clean_document(document):\n",
    "\n",
    "    content = document.page_content \n",
    "\n",
    "    content = re.sub(r\"^:\\s*\\d+\\s*\\n\", \"\", content) \n",
    "\n",
    "    content = re.sub(r\"link:.*(?:\\n|$)\", \"\", content)\n",
    "\n",
    "    content = re.sub(r'\\[|\\]', '', content)\n",
    "\n",
    "    content = content.strip()\n",
    "\n",
    "    return Document(page_content=content, metadata=document.metadata)"
   ]
  },
  {
   "cell_type": "code",
   "execution_count": 6,
   "id": "f02a9849",
   "metadata": {},
   "outputs": [],
   "source": [
    "document_loader = CSVLoader(file_path=\"sample_food_recipes.csv\", encoding=\"utf-8\") \n",
    "documents = document_loader.load() "
   ]
  },
  {
   "cell_type": "code",
   "execution_count": 7,
   "id": "bf1be966",
   "metadata": {},
   "outputs": [
    {
     "name": "stderr",
     "output_type": "stream",
     "text": [
      "d:\\Anaconda\\envs\\agents\\Lib\\site-packages\\tqdm\\auto.py:21: TqdmWarning: IProgress not found. Please update jupyter and ipywidgets. See https://ipywidgets.readthedocs.io/en/stable/user_install.html\n",
      "  from .autonotebook import tqdm as notebook_tqdm\n"
     ]
    },
    {
     "data": {
      "text/plain": [
       "384"
      ]
     },
     "execution_count": 7,
     "metadata": {},
     "output_type": "execute_result"
    }
   ],
   "source": [
    "embeddings = HuggingFaceEmbeddings(model_name=\"sentence-transformers/all-MiniLM-L6-v2\")\n",
    "len(embeddings.embed_query(\"hello world\"))"
   ]
  },
  {
   "cell_type": "code",
   "execution_count": 8,
   "id": "5413018e",
   "metadata": {},
   "outputs": [],
   "source": [
    "#embeddings = GoogleGenerativeAIEmbeddings(model=\"models/embedding-001\")\n",
    "embeddings = HuggingFaceEmbeddings(model_name=\"sentence-transformers/all-MiniLM-L6-v2\")\n",
    "cleaned_docs = [clean_document(doc) for doc in  (documents)]\n",
    "\n",
    "text_splitter = RecursiveCharacterTextSplitter(chunk_size= 500 , chunk_overlap=50)\n",
    "cleaned_docs = text_splitter.split_documents(cleaned_docs) \n",
    "\n",
    "# vector_store = Chroma(\n",
    "#     embedding_function=embeddings,\n",
    "#     collection_name=\"CookDataset\",\n",
    "# )\n"
   ]
  },
  {
   "cell_type": "code",
   "execution_count": 9,
   "id": "e102dddd",
   "metadata": {},
   "outputs": [],
   "source": [
    "index=faiss.IndexFlatL2(384)\n",
    "\n",
    "vector_store = FAISS(\n",
    "    embedding_function=embeddings,\n",
    "    index=index,\n",
    "    index_to_docstore_id={},\n",
    "    docstore=InMemoryDocstore()\n",
    ")\n",
    "\n",
    "vector_store.add_documents(cleaned_docs)\n",
    "\n",
    "vector_store.save_local(\"faiss_recepie_ivf_index\")"
   ]
  },
  {
   "cell_type": "code",
   "execution_count": 6,
   "id": "840387ab",
   "metadata": {},
   "outputs": [],
   "source": [
    "@tool\n",
    "def WebCrawlerTool(state:State):\n",
    "\n",
    "\n",
    "    \"\"\"WebCrawlerTool is a tool that performs a web search using TavilySearch and returns the results.\"\"\"  \n",
    "\n",
    "    print(\"inside web crawler tool\")\n",
    "\n",
    "    tool = TavilySearch(\n",
    "    max_results=25,\n",
    "    topic=\"general\",\n",
    "    include_answers = True, \n",
    "    include_images=True,\n",
    "    search_depth = \"advanced\" ,\n",
    "    include_related_searches = True, \n",
    "    include_snippets = True, \n",
    "    include_news = True,\n",
    "    include_videos = True,\n",
    "    include_websites = True, \n",
    "    include_wikipedia = True,\n",
    "    include_books = True,\n",
    "    include_products = True,\n",
    "    include_questions = True,\n",
    "    include_people = True,\n",
    "    include_places = True,\n",
    "    include_events = True,\n",
    "    include_software = True,\n",
    "    include_apps = True,\n",
    "    include_scholar = True,\n",
    "    include_jobs = True,\n",
    "    include_facts = True,\n",
    "    include_definitions = True,\n",
    "    include_translations = True,\n",
    "    include_summaries = True,\n",
    "    include_lyrics = True,\n",
    "    include_quotes = True,\n",
    "\n",
    "    )\n",
    "\n",
    "    search_query =state[\"messages\"][0]\n",
    "\n",
    "    print(\"inside tool \" , search_query)\n",
    "    results = tool.invoke(search_query) \n",
    "\n",
    "    return results "
   ]
  },
  {
   "cell_type": "code",
   "execution_count": 7,
   "id": "6a70c3de",
   "metadata": {},
   "outputs": [],
   "source": [
    "def LLM(state:State):\n",
    "\n",
    "    if LLM_TYPE == \"GROQ\":\n",
    "        llm = ChatGroq(model=LLM_MODEL ,  temperature=0.1) \n",
    "    elif LLM_TYPE == \"google\":\n",
    "        llm = ChatGoogleGenerativeAI(model=LLM_MODEL , temperature=0.1)   \n",
    "\n",
    "    query = (\n",
    "        \"Using only the knowledge you've been trained on, provide a clear, comprehensive, and well-structured answer \"\n",
    "        \"to the following question. Ensure that your explanation includes relevant context, key concepts, and any useful insights. \"\n",
    "        \"If anything is unclear or if you need more information, use the WebCrawler tool to get more information. \" \n",
    "        \"Here is the question:\\n\\n\" + state[\"messages\"][0]\n",
    "    )\n",
    "\n",
    "    tools_list = [WebCrawlerTool]\n",
    "    llm = llm.bind_tools(tools_list)\n",
    "\n",
    "\n",
    "    print(\"Query to LLM\" , query)\n",
    "    result = llm.invoke(query) \n",
    "\n",
    "    if isinstance(result, AIMessage) and result.tool_calls:\n",
    "        tool_call = result.tool_calls[0]  \n",
    "        tool_name = tool_call[\"name\"]\n",
    "        tool_args = tool_call[\"args\"]\n",
    "\n",
    "        #print(tool_call , tool_name , tool_args)\n",
    "        \n",
    "        if tool_name == \"WebCrawlerTool\":\n",
    "            print(\"Tool input\" , tool_args[\"state\"])\n",
    "            print(\"State\" , State(tool_args[\"state\"]))\n",
    "            tool_output = WebCrawlerTool({\"state\" : tool_args[\"state\"]})\n",
    "\n",
    "            print(\"&&&&&&&&&&\" , tool_output)\n",
    "            tool_result_msg = ToolMessage(\n",
    "                content=str(tool_output),\n",
    "                tool_call_id=tool_call[\"id\"]\n",
    "            )\n",
    "\n",
    "            final_response = llm.invoke([result, tool_result_msg])\n",
    "            return {\"messages\": [final_response]}\n",
    "\n",
    "    return {\"messages\": [result]}\n"
   ]
  },
  {
   "cell_type": "code",
   "execution_count": 8,
   "id": "fb7889d3",
   "metadata": {},
   "outputs": [],
   "source": [
    "class RecepieOutputParser(BaseModel):\n",
    "\n",
    "    ingredients : List[str] = Field(description=\"List of ingredients for the recipe\")\n",
    "    instructions : str = Field(description=\"Instructions for the recipe\") "
   ]
  },
  {
   "cell_type": "code",
   "execution_count": 9,
   "id": "334f5bce",
   "metadata": {},
   "outputs": [],
   "source": [
    "def RAG(state:State):\n",
    "\n",
    "    if LLM_TYPE == \"GROQ\":\n",
    "        llm = ChatGroq(model=LLM_MODEL, max_tokens=1000, temperature=0.1) \n",
    "    elif LLM_TYPE == \"google\":\n",
    "        llm = ChatGoogleGenerativeAI(model=LLM_MODEL , temperature=0.1)   \n",
    "\n",
    "    parser = PydanticOutputParser(pydantic_object=RecepieOutputParser)\n",
    "\n",
    "    prompt = PromptTemplate(\n",
    "        input_variables=[\"context\", \"question\"],\n",
    "        template=(\n",
    "        \"Using the following context, answer the question.\\n\\n\"\n",
    "        \"{context}\\n\\n\"\n",
    "        \"Question: {question}\\n\\n\"\n",
    "        \"Format your answer as follows:\\n{format_instructions}\\n\\n\"\n",
    "        \"Answer:\"\n",
    "        ),\n",
    "        partial_variables={\"format_instructions\": parser.get_format_instructions()},\n",
    "\n",
    "        \n",
    "    )\n",
    "\n",
    "    query = state[\"messages\"][0] \n",
    "\n",
    "    #embeddings = GoogleGenerativeAIEmbeddings(model=\"models/embedding-001\")\n",
    "    embeddings = HuggingFaceEmbeddings(model_name=\"sentence-transformers/all-MiniLM-L6-v2\")\n",
    "\n",
    "    vector_store = FAISS.load_local(\n",
    "    \"faiss_recepie_ivf_index\", embeddings, allow_dangerous_deserialization=True\n",
    "    )\n",
    "\n",
    "    retriever = vector_store.as_retriever()\n",
    "\n",
    "    #retriever = vector_store.as_retriever()\n",
    "\n",
    "    \n",
    "    rag_chain = (\n",
    "        {\"context\": retriever | format_docs, \"question\": RunnablePassthrough()}\n",
    "        | prompt\n",
    "        | llm\n",
    "        | parser\n",
    "    )\n",
    "\n",
    "\n",
    "    result = rag_chain.invoke(query) \n",
    "\n",
    "    return {\"messages\": [result]}"
   ]
  },
  {
   "cell_type": "code",
   "execution_count": 10,
   "id": "72edf921",
   "metadata": {},
   "outputs": [],
   "source": [
    "def clean_document(document):\n",
    "\n",
    "    content = document.page_content \n",
    "\n",
    "    content = re.sub(r\"^:\\s*\\d+\\s*\\n\", \"\", content) \n",
    "\n",
    "    content = re.sub(r\"link:.*(?:\\n|$)\", \"\", content)\n",
    "\n",
    "    content = re.sub(r'\\[|\\]', '', content)\n",
    "\n",
    "    content = content.strip()\n",
    "\n",
    "    return Document(page_content=content, metadata=document.metadata)\n"
   ]
  },
  {
   "cell_type": "code",
   "execution_count": 11,
   "id": "33c1c531",
   "metadata": {},
   "outputs": [],
   "source": [
    "# import os \n",
    "\n",
    "# URI = os.getenv(\"MILV_END_POINT\") \n",
    "\n",
    "\n",
    "# document_loader = CSVLoader(file_path=\"full_dataset.csv\", encoding=\"utf-8\") \n",
    "# documents = document_loader.load() \n",
    "\n",
    "# documents = [clean_document(doc) for doc in documents] "
   ]
  },
  {
   "cell_type": "code",
   "execution_count": 12,
   "id": "27986ccb",
   "metadata": {},
   "outputs": [],
   "source": [
    "# print(documents[0].page_content)"
   ]
  },
  {
   "cell_type": "code",
   "execution_count": 13,
   "id": "db2931cf",
   "metadata": {},
   "outputs": [],
   "source": [
    "def router(state:State):\n",
    "    \n",
    "    last_message=state[\"messages\"][-1]\n",
    "    \n",
    "    if \"food recipe\" in last_message.lower():\n",
    "        return \"RAG Call\"\n",
    "    else:\n",
    "        return \"LLM Call\""
   ]
  },
  {
   "cell_type": "code",
   "execution_count": 14,
   "id": "18ab25b6",
   "metadata": {},
   "outputs": [],
   "source": [
    "class SuperVisorOutputParser(BaseModel):\n",
    "    Topic:str=Field(description=\"selected topic\")\n",
    "    Reasoning:str=Field(description='Reasoning behind topic selection')"
   ]
  },
  {
   "cell_type": "code",
   "execution_count": null,
   "id": "ce7719c2",
   "metadata": {},
   "outputs": [],
   "source": []
  },
  {
   "cell_type": "code",
   "execution_count": 15,
   "id": "04e988cf",
   "metadata": {},
   "outputs": [],
   "source": [
    "def Supervisor(state: State):\n",
    "    from langchain.output_parsers import PydanticOutputParser\n",
    "    from langchain_core.prompts import PromptTemplate\n",
    "\n",
    "    question = state[\"messages\"][-1]\n",
    "\n",
    "    print(\"Supervisor received question:\", question)\n",
    "\n",
    "    parser = PydanticOutputParser(pydantic_object=SuperVisorOutputParser)\n",
    "    \n",
    "    if LLM_TYPE == \"GROQ\":\n",
    "        llm = ChatGroq(model=LLM_MODEL, max_tokens=1000, temperature=0.1)\n",
    "    elif LLM_TYPE == \"google\":\n",
    "        llm = ChatGoogleGenerativeAI(model=LLM_MODEL , temperature=0.1)   \n",
    "\n",
    "\n",
    "    template = \"\"\"\n",
    "    You are an intelligent assistant that classifies user queries into two categories: \"Food Recipe\" or \"General\".\n",
    "    \n",
    "    Your job is to read the user’s query, understand the context, and decide which category it belongs to, based on the following definitions:\n",
    "\n",
    "    - **Food Recipe**: Questions asking about how to cook something, steps to prepare a meal, required ingredients, cooking tools or methods, food combinations (e.g., \"What can I cook with tomatoes and cheese?\"), or anything related to meal preparation or kitchen processes.\n",
    "\n",
    "    - **General**: Any query that is not explicitly about food, cooking, or recipes. This includes current events, historical facts, science, technology, entertainment, personal opinions, advice, or anything not related to recipe preparation.\n",
    "\n",
    "    --- \n",
    "    Instructions:\n",
    "    - The \"Topic\" field should be either \"Food Recipe\" or \"General\".\n",
    "    - Your reasoning should be 1–3 sentences explaining why the query fits the chosen category.\n",
    "    - Do not add any commentary or extra explanation outside the JSON format.\n",
    "    \n",
    "    --- \n",
    "    User Query:\n",
    "    {question}\n",
    "\n",
    "    {format_instructions}\n",
    "    \"\"\"\n",
    "\n",
    "    prompt = PromptTemplate(\n",
    "        template=template,\n",
    "        input_variables=[\"question\"],\n",
    "        partial_variables={\"format_instructions\": parser.get_format_instructions()}\n",
    "    )\n",
    "\n",
    "    chain = prompt | llm | parser\n",
    "\n",
    "    print(\"Running Supervisor with question:\", question) \n",
    "    # print(\"Prompt : \" ,  prompt.template)\n",
    "    \n",
    "    response = chain.invoke({\"question\": question})\n",
    "\n",
    "    print(\"Parsed response:\", response)\n",
    "\n",
    "    return {\"messages\": [response.Topic], \"topic_reasoning\": response.Reasoning}\n",
    "\n"
   ]
  },
  {
   "cell_type": "code",
   "execution_count": 16,
   "id": "b37bdef9",
   "metadata": {},
   "outputs": [],
   "source": [
    "workflow = StateGraph(State)"
   ]
  },
  {
   "cell_type": "code",
   "execution_count": 17,
   "id": "f7e630f3",
   "metadata": {},
   "outputs": [
    {
     "data": {
      "text/plain": [
       "<langgraph.graph.state.StateGraph at 0x2354c28d400>"
      ]
     },
     "execution_count": 17,
     "metadata": {},
     "output_type": "execute_result"
    }
   ],
   "source": [
    "workflow.add_node(\"Supervisor\" , Supervisor )\n",
    "workflow.add_node(\"LLM\", LLM) \n",
    "workflow.add_node(\"RAG\", RAG)"
   ]
  },
  {
   "cell_type": "code",
   "execution_count": 18,
   "id": "260969ba",
   "metadata": {},
   "outputs": [
    {
     "data": {
      "text/plain": [
       "<langgraph.graph.state.StateGraph at 0x2354c28d400>"
      ]
     },
     "execution_count": 18,
     "metadata": {},
     "output_type": "execute_result"
    }
   ],
   "source": [
    "workflow.set_entry_point(\"Supervisor\")"
   ]
  },
  {
   "cell_type": "code",
   "execution_count": 19,
   "id": "05694bdb",
   "metadata": {},
   "outputs": [
    {
     "data": {
      "text/plain": [
       "<langgraph.graph.state.StateGraph at 0x2354c28d400>"
      ]
     },
     "execution_count": 19,
     "metadata": {},
     "output_type": "execute_result"
    }
   ],
   "source": [
    "workflow.add_conditional_edges(\n",
    "    \"Supervisor\",\n",
    "    router,\n",
    "    {\n",
    "        \"RAG Call\": \"RAG\",\n",
    "        \"LLM Call\": \"LLM\"\n",
    "    }\n",
    ")"
   ]
  },
  {
   "cell_type": "code",
   "execution_count": 20,
   "id": "de38dab7",
   "metadata": {},
   "outputs": [
    {
     "data": {
      "text/plain": [
       "<langgraph.graph.state.StateGraph at 0x2354c28d400>"
      ]
     },
     "execution_count": 20,
     "metadata": {},
     "output_type": "execute_result"
    }
   ],
   "source": [
    "workflow.add_edge(\"RAG\" , END )\n",
    "workflow.add_edge(\"LLM\" , END ) "
   ]
  },
  {
   "cell_type": "code",
   "execution_count": 21,
   "id": "1b495d5e",
   "metadata": {},
   "outputs": [
    {
     "data": {
      "image/png": "[encoded data removed]",
      "text/plain": [
       "<langgraph.graph.state.CompiledStateGraph object at 0x000002354C28DA90>"
      ]
     },
     "execution_count": 21,
     "metadata": {},
     "output_type": "execute_result"
    }
   ],
   "source": [
    "workflow.compile()"
   ]
  },
  {
   "cell_type": "code",
   "execution_count": 22,
   "id": "9a2a2b84",
   "metadata": {},
   "outputs": [],
   "source": [
    "app = workflow.compile() "
   ]
  },
  {
   "cell_type": "code",
   "execution_count": null,
   "id": "80d62d65",
   "metadata": {},
   "outputs": [],
   "source": [
    "state={\"messages\":[\"I have mustard, tomatoes, oil , ghee and onions , carrots . What all different food items can i make with ?\"]} "
   ]
  },
  {
   "cell_type": "code",
   "execution_count": null,
   "id": "4f74e5f3",
   "metadata": {},
   "outputs": [],
   "source": [
    "app.invoke(state) "
   ]
  },
  {
   "cell_type": "code",
   "execution_count": null,
   "id": "b431ea0e",
   "metadata": {},
   "outputs": [],
   "source": []
  }
 ],
 "metadata": {
  "kernelspec": {
   "display_name": "agents",
   "language": "python",
   "name": "python3"
  },
  "language_info": {
   "codemirror_mode": {
    "name": "ipython",
    "version": 3
   },
   "file_extension": ".py",
   "mimetype": "text/x-python",
   "name": "python",
   "nbconvert_exporter": "python",
   "pygments_lexer": "ipython3",
   "version": "3.13.2"
  }
 },
 "nbformat": 4,
 "nbformat_minor": 5
}
